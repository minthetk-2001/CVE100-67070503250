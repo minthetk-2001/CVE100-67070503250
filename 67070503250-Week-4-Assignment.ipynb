{
 "cells": [
  {
   "cell_type": "markdown",
   "id": "0e484cf4",
   "metadata": {},
   "source": [
    "# Even and Odd\n",
    "iterate for loop from number 1 to n:\n",
    "if the number is even, print \"[number] is even\"\n",
    "otherwise, print \"[number] is odd\""
   ]
  },
  {
   "cell_type": "code",
   "execution_count": 11,
   "id": "2244f5ab",
   "metadata": {},
   "outputs": [
    {
     "name": "stdout",
     "output_type": "stream",
     "text": [
      "1  is odd\n",
      "2  is even\n",
      "3  is odd\n",
      "4  is even\n"
     ]
    }
   ],
   "source": [
    "n = 5\n",
    "for i in range(1,n):\n",
    "    if i%2 == 0:\n",
    "        print(i,\" is even\")\n",
    "    else:\n",
    "        print(i,\" is odd\")"
   ]
  },
  {
   "cell_type": "markdown",
   "id": "3cf4d2fd",
   "metadata": {},
   "source": [
    "Multiplication \n",
    "- define n (n = 5)\n",
    "- Use a loop from 1 to 10 (the values of i is 1 to 10)\n",
    "- if the result of multiplication (num*i) is greater than 50 => print (\"tje result is large\")\n",
    "- otherwise, print the actual result ==> print (\"Resuklt=\", result)"
   ]
  },
  {
   "cell_type": "code",
   "execution_count": 38,
   "id": "e45eb511",
   "metadata": {},
   "outputs": [
    {
     "name": "stdout",
     "output_type": "stream",
     "text": [
      "Result = 7\n",
      "Result = 14\n",
      "Result = 21\n",
      "Result = 28\n",
      "Result = 35\n",
      "Result = 42\n",
      "Result = 49\n",
      "The result is large\n",
      "The result is large\n",
      "The result is large\n"
     ]
    }
   ],
   "source": [
    "n = 7\n",
    "for i in range(1,11):\n",
    "    result = n*i\n",
    "    if result > 50:\n",
    "        print(\"The result is large\")\n",
    "    else:\n",
    "        print(\"Result =\", result)"
   ]
  },
  {
   "cell_type": "markdown",
   "id": "de539ccc",
   "metadata": {},
   "source": [
    "Skipping the special numbers\n",
    "\n",
    "define n\n",
    "loop numbers from 1 to n\n",
    "if the number is divisible by 4 ==> skip it with continue\n",
    "if the number is greater than 20 ==> stop the loop with break\n",
    "otherwise --> print the number"
   ]
  },
  {
   "cell_type": "code",
   "execution_count": 44,
   "id": "7b6b261b",
   "metadata": {},
   "outputs": [
    {
     "name": "stdout",
     "output_type": "stream",
     "text": [
      "1\n",
      "2\n",
      "3\n",
      "5\n",
      "6\n",
      "7\n",
      "9\n",
      "10\n",
      "11\n",
      "13\n",
      "14\n",
      "15\n",
      "17\n",
      "18\n",
      "19\n"
     ]
    }
   ],
   "source": [
    "n = 100\n",
    "for i in range(1,n):\n",
    "    if i%4 == 0:\n",
    "        continue\n",
    "    if i > 20:\n",
    "        break\n",
    "    else:\n",
    "        print(i)\n",
    " \n",
    "\n",
    "\n"
   ]
  },
  {
   "cell_type": "markdown",
   "id": "4d69fd48",
   "metadata": {},
   "source": [
    "Guess the number\n",
    "The number is 777.\n",
    "- Ask the user to guess until they get it right.\n",
    "- If the guess is wrong, print \"Try Again\"\n",
    "- If the guess is correct, print \"You got it\" and stop the loop."
   ]
  },
  {
   "cell_type": "code",
   "execution_count": 6,
   "id": "43d8670c",
   "metadata": {},
   "outputs": [
    {
     "name": "stdout",
     "output_type": "stream",
     "text": [
      "Try Again\n",
      "Try Again\n",
      "You got it\n"
     ]
    }
   ],
   "source": [
    "secret = 777\n",
    "guess = int(input(\"Guess three digit number from 000 o 999\"))\n",
    "while guess != secret:\n",
    "    print(\"Try Again\")\n",
    "    guess = int(input(\"Guess three digit number from 000 o 999\"))\n",
    "\n",
    "print(\"You got it\")"
   ]
  },
  {
   "cell_type": "markdown",
   "id": "35f5aac8",
   "metadata": {},
   "source": [
    "Shopping Cart Checkout System\n",
    "\n",
    "Use initial variable total_bill=0\n",
    "Ask useer to add price and add the price to total_bill.\n",
    "If total_bill>1000, print (\"limit reached. YOu cannot buy anymore\" and break the loop)"
   ]
  },
  {
   "cell_type": "code",
   "execution_count": null,
   "id": "eefb7005",
   "metadata": {},
   "outputs": [
    {
     "name": "stdout",
     "output_type": "stream",
     "text": [
      "30\n",
      "70\n",
      "1070\n",
      "limit reached. You cannot buy anymore\n"
     ]
    }
   ],
   "source": [
    "total_bill = 0\n",
    "price = int(input(\"Price is \"))\n",
    "total_bill += price\n",
    "while total_bill <= 1000:\n",
    "    price = int(input(\"Price is \"))\n",
    "    total_bill += price\n",
    "\n",
    "print(\"limit reached. You cannot buy anymore\")\n"
   ]
  }
 ],
 "metadata": {
  "kernelspec": {
   "display_name": "Python 3",
   "language": "python",
   "name": "python3"
  },
  "language_info": {
   "codemirror_mode": {
    "name": "ipython",
    "version": 3
   },
   "file_extension": ".py",
   "mimetype": "text/x-python",
   "name": "python",
   "nbconvert_exporter": "python",
   "pygments_lexer": "ipython3",
   "version": "3.12.6"
  }
 },
 "nbformat": 4,
 "nbformat_minor": 5
}
